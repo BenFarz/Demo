{
  "nbformat": 4,
  "nbformat_minor": 0,
  "metadata": {
    "colab": {
      "provenance": [],
      "authorship_tag": "ABX9TyMfG0jTHVkKADrsWt2+AVss",
      "include_colab_link": true
    },
    "kernelspec": {
      "name": "python3",
      "display_name": "Python 3"
    },
    "language_info": {
      "name": "python"
    }
  },
  "cells": [
    {
      "cell_type": "markdown",
      "metadata": {
        "id": "view-in-github",
        "colab_type": "text"
      },
      "source": [
        "<a href=\"https://colab.research.google.com/github/BenFarz/Demo/blob/main/Untitled0.ipynb\" target=\"_parent\"><img src=\"https://colab.research.google.com/assets/colab-badge.svg\" alt=\"Open In Colab\"/></a>"
      ]
    },
    {
      "cell_type": "code",
      "execution_count": 1,
      "metadata": {
        "id": "VHJqGQl5u8__"
      },
      "outputs": [],
      "source": [
        "import tensorflow as tf"
      ]
    },
    {
      "cell_type": "code",
      "source": [
        "tf.__version__"
      ],
      "metadata": {
        "colab": {
          "base_uri": "https://localhost:8080/",
          "height": 35
        },
        "id": "dzE1Vzb2vFE5",
        "outputId": "0cf6057f-1dd2-4940-c188-a3c2ea6fd8f7"
      },
      "execution_count": 2,
      "outputs": [
        {
          "output_type": "execute_result",
          "data": {
            "text/plain": [
              "'2.8.2'"
            ],
            "application/vnd.google.colaboratory.intrinsic+json": {
              "type": "string"
            }
          },
          "metadata": {},
          "execution_count": 2
        }
      ]
    },
    {
      "cell_type": "code",
      "source": [
        "import numpy as np"
      ],
      "metadata": {
        "id": "NxHeErA0vIoQ"
      },
      "execution_count": 3,
      "outputs": []
    },
    {
      "cell_type": "code",
      "source": [
        "X = tf.range(-500,900,23)"
      ],
      "metadata": {
        "id": "f5Uhak-GvM2e"
      },
      "execution_count": 4,
      "outputs": []
    },
    {
      "cell_type": "code",
      "source": [
        "tf.shape(X)"
      ],
      "metadata": {
        "colab": {
          "base_uri": "https://localhost:8080/"
        },
        "id": "GD_PwN9QvWqJ",
        "outputId": "be5d2f48-cc0a-4666-96ca-343c8ef439f0"
      },
      "execution_count": 6,
      "outputs": [
        {
          "output_type": "execute_result",
          "data": {
            "text/plain": [
              "<tf.Tensor: shape=(1,), dtype=int32, numpy=array([61], dtype=int32)>"
            ]
          },
          "metadata": {},
          "execution_count": 6
        }
      ]
    },
    {
      "cell_type": "code",
      "source": [
        "tf.size(X)"
      ],
      "metadata": {
        "colab": {
          "base_uri": "https://localhost:8080/"
        },
        "id": "2X0Z8TRrvf1R",
        "outputId": "ecc128e6-590c-4d82-bb6e-7a804093182f"
      },
      "execution_count": 7,
      "outputs": [
        {
          "output_type": "execute_result",
          "data": {
            "text/plain": [
              "<tf.Tensor: shape=(), dtype=int32, numpy=61>"
            ]
          },
          "metadata": {},
          "execution_count": 7
        }
      ]
    },
    {
      "cell_type": "code",
      "source": [
        "tf.reshape(X, [61])"
      ],
      "metadata": {
        "colab": {
          "base_uri": "https://localhost:8080/"
        },
        "id": "HIdJJJBtvqAP",
        "outputId": "1390ceb8-786e-4a51-9262-00b49ad8c4d0"
      },
      "execution_count": 8,
      "outputs": [
        {
          "output_type": "execute_result",
          "data": {
            "text/plain": [
              "<tf.Tensor: shape=(61,), dtype=int32, numpy=\n",
              "array([-500, -477, -454, -431, -408, -385, -362, -339, -316, -293, -270,\n",
              "       -247, -224, -201, -178, -155, -132, -109,  -86,  -63,  -40,  -17,\n",
              "          6,   29,   52,   75,   98,  121,  144,  167,  190,  213,  236,\n",
              "        259,  282,  305,  328,  351,  374,  397,  420,  443,  466,  489,\n",
              "        512,  535,  558,  581,  604,  627,  650,  673,  696,  719,  742,\n",
              "        765,  788,  811,  834,  857,  880], dtype=int32)>"
            ]
          },
          "metadata": {},
          "execution_count": 8
        }
      ]
    },
    {
      "cell_type": "code",
      "source": [
        "X = tf.cast(X, dtype = tf.float16)"
      ],
      "metadata": {
        "id": "51aHSuL6vxz3"
      },
      "execution_count": 10,
      "outputs": []
    },
    {
      "cell_type": "code",
      "source": [
        "y=X/2.5\n",
        "y"
      ],
      "metadata": {
        "colab": {
          "base_uri": "https://localhost:8080/"
        },
        "id": "tLk81EvZv1K_",
        "outputId": "45641c1e-33a8-412d-fd60-6cc5dd6b78b1"
      },
      "execution_count": 12,
      "outputs": [
        {
          "output_type": "execute_result",
          "data": {
            "text/plain": [
              "<tf.Tensor: shape=(61,), dtype=float16, numpy=\n",
              "array([-200. , -190.8, -181.6, -172.4, -163.2, -154. , -144.8, -135.6,\n",
              "       -126.4, -117.2, -108. ,  -98.8,  -89.6,  -80.4,  -71.2,  -62. ,\n",
              "        -52.8,  -43.6,  -34.4,  -25.2,  -16. ,   -6.8,    2.4,   11.6,\n",
              "         20.8,   30. ,   39.2,   48.4,   57.6,   66.8,   76. ,   85.2,\n",
              "         94.4,  103.6,  112.8,  122. ,  131.2,  140.4,  149.6,  158.8,\n",
              "        168. ,  177.2,  186.4,  195.6,  204.8,  214. ,  223.2,  232.4,\n",
              "        241.6,  250.8,  260. ,  269.2,  278.5,  287.5,  296.8,  306. ,\n",
              "        315.2,  324.5,  333.5,  342.8,  352. ], dtype=float16)>"
            ]
          },
          "metadata": {},
          "execution_count": 12
        }
      ]
    },
    {
      "cell_type": "code",
      "source": [
        "X_train = X[:51]\n",
        "X_test = X[51:]\n",
        "y_train = y[:51]\n",
        "y_test = y[51:]"
      ],
      "metadata": {
        "id": "QPBdeR_6wA4P"
      },
      "execution_count": 16,
      "outputs": []
    },
    {
      "cell_type": "code",
      "source": [
        "tf.random.set_seed(42)\n",
        "model1 = tf.keras.Sequential([\n",
        "    tf.keras.layers.Dense(1, input_shape = [1])\n",
        "])\n",
        "model1.compile(loss = tf.keras.losses.mae,\n",
        "               optimizer = tf.keras.optimizers.SGD(),\n",
        "               metrics = [\"mse\"])\n",
        "model1.fit(X_train, y_train, epochs = 250)"
      ],
      "metadata": {
        "id": "fBor4PBBwTLy"
      },
      "execution_count": null,
      "outputs": []
    },
    {
      "cell_type": "code",
      "source": [
        "model2 = tf.keras.Sequential([\n",
        "    tf.keras.layers.Dense(30),\n",
        "    tf.keras.layers.Dense(1, input_shape = [1])\n",
        "])\n",
        "model2.compile(loss = tf.keras.losses.mae,\n",
        "               optimizer = tf.keras.optimizers.Adam(lr = 0.01),\n",
        "               metrics = [\"mse\"])\n",
        "model2.fit(tf.expand_dims(X_train, axis = -1), tf.expand_dims(y_train, axis = -1), epochs = 250)"
      ],
      "metadata": {
        "id": "C_gFtIjLxzdY"
      },
      "execution_count": null,
      "outputs": []
    },
    {
      "cell_type": "code",
      "source": [
        "y_pred1 = model1.predict(X_test)\n",
        "y_pred2 = model2.predict(X_test)"
      ],
      "metadata": {
        "id": "EdeYDFRNznd3"
      },
      "execution_count": 20,
      "outputs": []
    },
    {
      "cell_type": "code",
      "source": [
        "def bekesh(train_data = X_train,\n",
        "  train_result = y_train,           \n",
        "  test_data = X_test,\n",
        "  result1 = y_pred1,\n",
        "  result2 = y_pred2,\n",
        "  result = y_test):\n",
        "  import matplotlib.pyplot as plt\n",
        "  plt.figure(figsize=(10,7)),\n",
        "  plt.scatter(train_data, train_result, c=\"g\", label=\"True\"),\n",
        "  plt.scatter(test_data, result, c=\"k\", label = \"True_test\"),\n",
        "  plt.scatter(test_data, result1, c=\"b\", label = \"P1\"),\n",
        "  plt.scatter(test_data, result2, c=\"y\", label=\"P2\")\n",
        "  plt.legend();\n",
        "\n"
      ],
      "metadata": {
        "id": "0o0ax1KLyrQP"
      },
      "execution_count": 41,
      "outputs": []
    },
    {
      "cell_type": "code",
      "source": [
        "bekesh()"
      ],
      "metadata": {
        "colab": {
          "base_uri": "https://localhost:8080/",
          "height": 428
        },
        "id": "MVWJsVJG1goS",
        "outputId": "8c58d1e2-7f90-405b-9be3-94abfeb026a4"
      },
      "execution_count": 42,
      "outputs": [
        {
          "output_type": "display_data",
          "data": {
            "text/plain": [
              "<Figure size 720x504 with 1 Axes>"
            ],
            "image/png": "[encoded data removed]"
          },
          "metadata": {
            "needs_background": "light"
          }
        }
      ]
    },
    {
      "cell_type": "code",
      "source": [
        "model1.summary()"
      ],
      "metadata": {
        "colab": {
          "base_uri": "https://localhost:8080/"
        },
        "id": "47a-ZVBw1vtq",
        "outputId": "8e25e914-8978-4a62-871a-788909a2c82e"
      },
      "execution_count": 43,
      "outputs": [
        {
          "output_type": "stream",
          "name": "stdout",
          "text": [
            "Model: \"sequential\"\n",
            "_________________________________________________________________\n",
            " Layer (type)                Output Shape              Param #   \n",
            "=================================================================\n",
            " dense (Dense)               (None, 1)                 2         \n",
            "                                                                 \n",
            "=================================================================\n",
            "Total params: 2\n",
            "Trainable params: 2\n",
            "Non-trainable params: 0\n",
            "_________________________________________________________________\n"
          ]
        }
      ]
    },
    {
      "cell_type": "code",
      "source": [
        "model2.summary()"
      ],
      "metadata": {
        "colab": {
          "base_uri": "https://localhost:8080/"
        },
        "id": "j0hW5xbl43mN",
        "outputId": "d88dea78-ef75-41f8-cd31-f2128001c083"
      },
      "execution_count": 46,
      "outputs": [
        {
          "output_type": "stream",
          "name": "stdout",
          "text": [
            "Model: \"sequential_2\"\n",
            "_________________________________________________________________\n",
            " Layer (type)                Output Shape              Param #   \n",
            "=================================================================\n",
            " dense_3 (Dense)             (None, 30)                60        \n",
            "                                                                 \n",
            " dense_4 (Dense)             (None, 1)                 31        \n",
            "                                                                 \n",
            "=================================================================\n",
            "Total params: 91\n",
            "Trainable params: 91\n",
            "Non-trainable params: 0\n",
            "_________________________________________________________________\n"
          ]
        }
      ]
    },
    {
      "cell_type": "code",
      "source": [
        "from tensorflow.keras.utils import plot_model\n",
        "plot_model(model = model1, show_shapes = True),\n",
        "plot_model(model = model2, show_shapes = True)"
      ],
      "metadata": {
        "colab": {
          "base_uri": "https://localhost:8080/",
          "height": 312
        },
        "id": "UGDUIqYe46Yq",
        "outputId": "3c4cc55b-4ea1-4d85-ca65-5a41fe35d153"
      },
      "execution_count": 55,
      "outputs": [
        {
          "output_type": "execute_result",
          "data": {
            "image/png": "[encoded data removed]",
            "text/plain": [
              "<IPython.core.display.Image object>"
            ]
          },
          "metadata": {},
          "execution_count": 55
        }
      ]
    },
    {
      "cell_type": "code",
      "source": [],
      "metadata": {
        "id": "KE9cg_Nq5x7_"
      },
      "execution_count": null,
      "outputs": []
    }
  ]
}