{
  "nbformat": 4,
  "nbformat_minor": 0,
  "metadata": {
    "colab": {
      "name": "Untitled3.ipynb",
      "provenance": [],
      "authorship_tag": "ABX9TyPH3Jx4fsV60+QVo/MvOlyh",
      "include_colab_link": true
    },
    "kernelspec": {
      "name": "python3",
      "display_name": "Python 3"
    },
    "language_info": {
      "name": "python"
    }
  },
  "cells": [
    {
      "cell_type": "markdown",
      "metadata": {
        "id": "view-in-github",
        "colab_type": "text"
      },
      "source": [
        "<a href=\"https://colab.research.google.com/github/BenFarz/Demo/blob/main/FerroAGUSTO.ipynb\" target=\"_parent\"><img src=\"https://colab.research.google.com/assets/colab-badge.svg\" alt=\"Open In Colab\"/></a>"
      ]
    },
    {
      "cell_type": "code",
      "execution_count": 1,
      "metadata": {
        "id": "IGCgTxAb8b9h"
      },
      "outputs": [],
      "source": [
        "import tensorflow as tf"
      ]
    },
    {
      "cell_type": "code",
      "source": [
        "tf.__version__"
      ],
      "metadata": {
        "colab": {
          "base_uri": "https://localhost:8080/",
          "height": 35
        },
        "id": "DjES-2P89vAq",
        "outputId": "ef966500-ffa8-4229-f928-7aa71671a83e"
      },
      "execution_count": 2,
      "outputs": [
        {
          "output_type": "execute_result",
          "data": {
            "text/plain": [
              "'2.8.2'"
            ],
            "application/vnd.google.colaboratory.intrinsic+json": {
              "type": "string"
            }
          },
          "metadata": {},
          "execution_count": 2
        }
      ]
    },
    {
      "cell_type": "code",
      "source": [
        "import numpy as np"
      ],
      "metadata": {
        "id": "IXzb6pRN9xu8"
      },
      "execution_count": 3,
      "outputs": []
    },
    {
      "cell_type": "code",
      "source": [
        "import matplotlib.pyplot as plt"
      ],
      "metadata": {
        "id": "t6ewC8-x9zib"
      },
      "execution_count": 4,
      "outputs": []
    },
    {
      "cell_type": "code",
      "source": [
        "X=tf.range(-100,100,4)\n",
        "X"
      ],
      "metadata": {
        "colab": {
          "base_uri": "https://localhost:8080/"
        },
        "id": "VGro9WL7978d",
        "outputId": "105d5a48-d272-4fac-b43e-dca923651335"
      },
      "execution_count": 5,
      "outputs": [
        {
          "output_type": "execute_result",
          "data": {
            "text/plain": [
              "<tf.Tensor: shape=(50,), dtype=int32, numpy=\n",
              "array([-100,  -96,  -92,  -88,  -84,  -80,  -76,  -72,  -68,  -64,  -60,\n",
              "        -56,  -52,  -48,  -44,  -40,  -36,  -32,  -28,  -24,  -20,  -16,\n",
              "        -12,   -8,   -4,    0,    4,    8,   12,   16,   20,   24,   28,\n",
              "         32,   36,   40,   44,   48,   52,   56,   60,   64,   68,   72,\n",
              "         76,   80,   84,   88,   92,   96], dtype=int32)>"
            ]
          },
          "metadata": {},
          "execution_count": 5
        }
      ]
    },
    {
      "cell_type": "code",
      "source": [
        "y=tf.range(-50,50,2)\n",
        "y"
      ],
      "metadata": {
        "colab": {
          "base_uri": "https://localhost:8080/"
        },
        "id": "RbGOX7UJ-DXy",
        "outputId": "837a7dba-101d-4db2-976c-edabe03d2c5a"
      },
      "execution_count": 6,
      "outputs": [
        {
          "output_type": "execute_result",
          "data": {
            "text/plain": [
              "<tf.Tensor: shape=(50,), dtype=int32, numpy=\n",
              "array([-50, -48, -46, -44, -42, -40, -38, -36, -34, -32, -30, -28, -26,\n",
              "       -24, -22, -20, -18, -16, -14, -12, -10,  -8,  -6,  -4,  -2,   0,\n",
              "         2,   4,   6,   8,  10,  12,  14,  16,  18,  20,  22,  24,  26,\n",
              "        28,  30,  32,  34,  36,  38,  40,  42,  44,  46,  48], dtype=int32)>"
            ]
          },
          "metadata": {},
          "execution_count": 6
        }
      ]
    },
    {
      "cell_type": "code",
      "source": [
        "len(X),len(y)"
      ],
      "metadata": {
        "colab": {
          "base_uri": "https://localhost:8080/"
        },
        "id": "2c87iUU9-LhW",
        "outputId": "d444e296-300e-4198-f7dd-7fd0a12136b5"
      },
      "execution_count": 7,
      "outputs": [
        {
          "output_type": "execute_result",
          "data": {
            "text/plain": [
              "(50, 50)"
            ]
          },
          "metadata": {},
          "execution_count": 7
        }
      ]
    },
    {
      "cell_type": "code",
      "source": [
        "X_train=X[:40]\n",
        "y_train=y[:40]\n",
        "X_train,y_train"
      ],
      "metadata": {
        "colab": {
          "base_uri": "https://localhost:8080/"
        },
        "id": "KmqYphkw-R-M",
        "outputId": "aa367940-738e-4d40-ee28-57cd53318027"
      },
      "execution_count": 8,
      "outputs": [
        {
          "output_type": "execute_result",
          "data": {
            "text/plain": [
              "(<tf.Tensor: shape=(40,), dtype=int32, numpy=\n",
              " array([-100,  -96,  -92,  -88,  -84,  -80,  -76,  -72,  -68,  -64,  -60,\n",
              "         -56,  -52,  -48,  -44,  -40,  -36,  -32,  -28,  -24,  -20,  -16,\n",
              "         -12,   -8,   -4,    0,    4,    8,   12,   16,   20,   24,   28,\n",
              "          32,   36,   40,   44,   48,   52,   56], dtype=int32)>,\n",
              " <tf.Tensor: shape=(40,), dtype=int32, numpy=\n",
              " array([-50, -48, -46, -44, -42, -40, -38, -36, -34, -32, -30, -28, -26,\n",
              "        -24, -22, -20, -18, -16, -14, -12, -10,  -8,  -6,  -4,  -2,   0,\n",
              "          2,   4,   6,   8,  10,  12,  14,  16,  18,  20,  22,  24,  26,\n",
              "         28], dtype=int32)>)"
            ]
          },
          "metadata": {},
          "execution_count": 8
        }
      ]
    },
    {
      "cell_type": "code",
      "source": [
        "X_test=X[40:]\n",
        "y_test=y[40:]\n",
        "X_test,y_test"
      ],
      "metadata": {
        "colab": {
          "base_uri": "https://localhost:8080/"
        },
        "id": "qiNdFlRjANAb",
        "outputId": "ea45fa92-2b84-4412-f01c-c68683e81ad9"
      },
      "execution_count": 9,
      "outputs": [
        {
          "output_type": "execute_result",
          "data": {
            "text/plain": [
              "(<tf.Tensor: shape=(10,), dtype=int32, numpy=array([60, 64, 68, 72, 76, 80, 84, 88, 92, 96], dtype=int32)>,\n",
              " <tf.Tensor: shape=(10,), dtype=int32, numpy=array([30, 32, 34, 36, 38, 40, 42, 44, 46, 48], dtype=int32)>)"
            ]
          },
          "metadata": {},
          "execution_count": 9
        }
      ]
    },
    {
      "cell_type": "code",
      "source": [
        "plt.figure(figsize=(10,7))\n",
        "plt.scatter(X_train,y_train, c=\"b\", label=\"train sets\")\n",
        "plt.scatter(X_test,y_test, c=\"g\", label=\"Test sets\")\n",
        "plt.legend;"
      ],
      "metadata": {
        "colab": {
          "base_uri": "https://localhost:8080/",
          "height": 428
        },
        "id": "-IsyNW8uCiTr",
        "outputId": "414729a2-910b-407e-9275-70aed19b30a9"
      },
      "execution_count": 10,
      "outputs": [
        {
          "output_type": "display_data",
          "data": {
            "text/plain": [
              "<Figure size 720x504 with 1 Axes>"
            ],
            "image/png": "[encoded data removed]"
          },
          "metadata": {
            "needs_background": "light"
          }
        }
      ]
    },
    {
      "cell_type": "code",
      "source": [
        "tf.random.set_seed(54)\n",
        "model=tf.keras.Sequential([\n",
        "    tf.keras.layers.Dense(1)\n",
        "])\n",
        "model.compile(loss=tf.keras.losses.mae,\n",
        "              optimizer=tf.keras.optimizers.SGD(),\n",
        "              metrics=[\"mae\"])\n",
        "model.fit(tf.expand_dims(X_test, axis=-1), tf.expand_dims(y_test, axis=-1), epochs=100)"
      ],
      "metadata": {
        "colab": {
          "base_uri": "https://localhost:8080/"
        },
        "id": "EpRyo-CWC9vL",
        "outputId": "16269212-627d-479e-940a-64774e18a39a"
      },
      "execution_count": 11,
      "outputs": [
        {
          "output_type": "stream",
          "name": "stdout",
          "text": [
            "Epoch 1/100\n",
            "1/1 [==============================] - 1s 554ms/step - loss: 120.6504 - mae: 120.6504\n",
            "Epoch 2/100\n",
            "1/1 [==============================] - 0s 8ms/step - loss: 59.8003 - mae: 59.8003\n",
            "Epoch 3/100\n",
            "1/1 [==============================] - 0s 12ms/step - loss: 1.0497 - mae: 1.0497\n",
            "Epoch 4/100\n",
            "1/1 [==============================] - 0s 12ms/step - loss: 59.8003 - mae: 59.8003\n",
            "Epoch 5/100\n",
            "1/1 [==============================] - 0s 9ms/step - loss: 1.0497 - mae: 1.0497\n",
            "Epoch 6/100\n",
            "1/1 [==============================] - 0s 11ms/step - loss: 59.8003 - mae: 59.8003\n",
            "Epoch 7/100\n",
            "1/1 [==============================] - 0s 10ms/step - loss: 1.0497 - mae: 1.0497\n",
            "Epoch 8/100\n",
            "1/1 [==============================] - 0s 14ms/step - loss: 59.8003 - mae: 59.8003\n",
            "Epoch 9/100\n",
            "1/1 [==============================] - 0s 11ms/step - loss: 1.0497 - mae: 1.0497\n",
            "Epoch 10/100\n",
            "1/1 [==============================] - 0s 17ms/step - loss: 59.8003 - mae: 59.8003\n",
            "Epoch 11/100\n",
            "1/1 [==============================] - 0s 15ms/step - loss: 1.0497 - mae: 1.0497\n",
            "Epoch 12/100\n",
            "1/1 [==============================] - 0s 13ms/step - loss: 59.8003 - mae: 59.8003\n",
            "Epoch 13/100\n",
            "1/1 [==============================] - 0s 13ms/step - loss: 1.0497 - mae: 1.0497\n",
            "Epoch 14/100\n",
            "1/1 [==============================] - 0s 12ms/step - loss: 59.8003 - mae: 59.8003\n",
            "Epoch 15/100\n",
            "1/1 [==============================] - 0s 15ms/step - loss: 1.0497 - mae: 1.0497\n",
            "Epoch 16/100\n",
            "1/1 [==============================] - 0s 12ms/step - loss: 59.8003 - mae: 59.8003\n",
            "Epoch 17/100\n",
            "1/1 [==============================] - 0s 9ms/step - loss: 1.0497 - mae: 1.0497\n",
            "Epoch 18/100\n",
            "1/1 [==============================] - 0s 10ms/step - loss: 59.8003 - mae: 59.8003\n",
            "Epoch 19/100\n",
            "1/1 [==============================] - 0s 9ms/step - loss: 1.0497 - mae: 1.0497\n",
            "Epoch 20/100\n",
            "1/1 [==============================] - 0s 10ms/step - loss: 59.8003 - mae: 59.8003\n",
            "Epoch 21/100\n",
            "1/1 [==============================] - 0s 10ms/step - loss: 1.0497 - mae: 1.0497\n",
            "Epoch 22/100\n",
            "1/1 [==============================] - 0s 11ms/step - loss: 59.8003 - mae: 59.8003\n",
            "Epoch 23/100\n",
            "1/1 [==============================] - 0s 21ms/step - loss: 1.0497 - mae: 1.0497\n",
            "Epoch 24/100\n",
            "1/1 [==============================] - 0s 20ms/step - loss: 59.8003 - mae: 59.8003\n",
            "Epoch 25/100\n",
            "1/1 [==============================] - 0s 8ms/step - loss: 1.0497 - mae: 1.0497\n",
            "Epoch 26/100\n",
            "1/1 [==============================] - 0s 11ms/step - loss: 59.8003 - mae: 59.8003\n",
            "Epoch 27/100\n",
            "1/1 [==============================] - 0s 17ms/step - loss: 1.0497 - mae: 1.0497\n",
            "Epoch 28/100\n",
            "1/1 [==============================] - 0s 9ms/step - loss: 59.8003 - mae: 59.8003\n",
            "Epoch 29/100\n",
            "1/1 [==============================] - 0s 9ms/step - loss: 1.0497 - mae: 1.0497\n",
            "Epoch 30/100\n",
            "1/1 [==============================] - 0s 7ms/step - loss: 59.8003 - mae: 59.8003\n",
            "Epoch 31/100\n",
            "1/1 [==============================] - 0s 8ms/step - loss: 1.0497 - mae: 1.0497\n",
            "Epoch 32/100\n",
            "1/1 [==============================] - 0s 8ms/step - loss: 59.8003 - mae: 59.8003\n",
            "Epoch 33/100\n",
            "1/1 [==============================] - 0s 7ms/step - loss: 1.0497 - mae: 1.0497\n",
            "Epoch 34/100\n",
            "1/1 [==============================] - 0s 8ms/step - loss: 59.8003 - mae: 59.8003\n",
            "Epoch 35/100\n",
            "1/1 [==============================] - 0s 9ms/step - loss: 1.0497 - mae: 1.0497\n",
            "Epoch 36/100\n",
            "1/1 [==============================] - 0s 9ms/step - loss: 59.8003 - mae: 59.8003\n",
            "Epoch 37/100\n",
            "1/1 [==============================] - 0s 10ms/step - loss: 1.0497 - mae: 1.0497\n",
            "Epoch 38/100\n",
            "1/1 [==============================] - 0s 9ms/step - loss: 59.8003 - mae: 59.8003\n",
            "Epoch 39/100\n",
            "1/1 [==============================] - 0s 10ms/step - loss: 1.0497 - mae: 1.0497\n",
            "Epoch 40/100\n",
            "1/1 [==============================] - 0s 9ms/step - loss: 59.8003 - mae: 59.8003\n",
            "Epoch 41/100\n",
            "1/1 [==============================] - 0s 9ms/step - loss: 1.0497 - mae: 1.0497\n",
            "Epoch 42/100\n",
            "1/1 [==============================] - 0s 9ms/step - loss: 59.8003 - mae: 59.8003\n",
            "Epoch 43/100\n",
            "1/1 [==============================] - 0s 9ms/step - loss: 1.0497 - mae: 1.0497\n",
            "Epoch 44/100\n",
            "1/1 [==============================] - 0s 9ms/step - loss: 59.8003 - mae: 59.8003\n",
            "Epoch 45/100\n",
            "1/1 [==============================] - 0s 8ms/step - loss: 1.0497 - mae: 1.0497\n",
            "Epoch 46/100\n",
            "1/1 [==============================] - 0s 9ms/step - loss: 59.8003 - mae: 59.8003\n",
            "Epoch 47/100\n",
            "1/1 [==============================] - 0s 8ms/step - loss: 1.0497 - mae: 1.0497\n",
            "Epoch 48/100\n",
            "1/1 [==============================] - 0s 9ms/step - loss: 59.8003 - mae: 59.8003\n",
            "Epoch 49/100\n",
            "1/1 [==============================] - 0s 9ms/step - loss: 1.0497 - mae: 1.0497\n",
            "Epoch 50/100\n",
            "1/1 [==============================] - 0s 8ms/step - loss: 59.8003 - mae: 59.8003\n",
            "Epoch 51/100\n",
            "1/1 [==============================] - 0s 7ms/step - loss: 1.0497 - mae: 1.0497\n",
            "Epoch 52/100\n",
            "1/1 [==============================] - 0s 8ms/step - loss: 59.8003 - mae: 59.8003\n",
            "Epoch 53/100\n",
            "1/1 [==============================] - 0s 8ms/step - loss: 1.0497 - mae: 1.0497\n",
            "Epoch 54/100\n",
            "1/1 [==============================] - 0s 7ms/step - loss: 59.8003 - mae: 59.8003\n",
            "Epoch 55/100\n",
            "1/1 [==============================] - 0s 8ms/step - loss: 1.0497 - mae: 1.0497\n",
            "Epoch 56/100\n",
            "1/1 [==============================] - 0s 8ms/step - loss: 59.8003 - mae: 59.8003\n",
            "Epoch 57/100\n",
            "1/1 [==============================] - 0s 8ms/step - loss: 1.0497 - mae: 1.0497\n",
            "Epoch 58/100\n",
            "1/1 [==============================] - 0s 8ms/step - loss: 59.8003 - mae: 59.8003\n",
            "Epoch 59/100\n",
            "1/1 [==============================] - 0s 8ms/step - loss: 1.0497 - mae: 1.0497\n",
            "Epoch 60/100\n",
            "1/1 [==============================] - 0s 10ms/step - loss: 59.8003 - mae: 59.8003\n",
            "Epoch 61/100\n",
            "1/1 [==============================] - 0s 9ms/step - loss: 1.0497 - mae: 1.0497\n",
            "Epoch 62/100\n",
            "1/1 [==============================] - 0s 8ms/step - loss: 59.8003 - mae: 59.8003\n",
            "Epoch 63/100\n",
            "1/1 [==============================] - 0s 11ms/step - loss: 1.0497 - mae: 1.0497\n",
            "Epoch 64/100\n",
            "1/1 [==============================] - 0s 9ms/step - loss: 59.8003 - mae: 59.8003\n",
            "Epoch 65/100\n",
            "1/1 [==============================] - 0s 11ms/step - loss: 1.0497 - mae: 1.0497\n",
            "Epoch 66/100\n",
            "1/1 [==============================] - 0s 7ms/step - loss: 59.8003 - mae: 59.8003\n",
            "Epoch 67/100\n",
            "1/1 [==============================] - 0s 13ms/step - loss: 1.0497 - mae: 1.0497\n",
            "Epoch 68/100\n",
            "1/1 [==============================] - 0s 6ms/step - loss: 59.8003 - mae: 59.8003\n",
            "Epoch 69/100\n",
            "1/1 [==============================] - 0s 6ms/step - loss: 1.0497 - mae: 1.0497\n",
            "Epoch 70/100\n",
            "1/1 [==============================] - 0s 6ms/step - loss: 59.8003 - mae: 59.8003\n",
            "Epoch 71/100\n",
            "1/1 [==============================] - 0s 6ms/step - loss: 1.0497 - mae: 1.0497\n",
            "Epoch 72/100\n",
            "1/1 [==============================] - 0s 7ms/step - loss: 59.8003 - mae: 59.8003\n",
            "Epoch 73/100\n",
            "1/1 [==============================] - 0s 8ms/step - loss: 1.0497 - mae: 1.0497\n",
            "Epoch 74/100\n",
            "1/1 [==============================] - 0s 10ms/step - loss: 59.8003 - mae: 59.8003\n",
            "Epoch 75/100\n",
            "1/1 [==============================] - 0s 6ms/step - loss: 1.0497 - mae: 1.0497\n",
            "Epoch 76/100\n",
            "1/1 [==============================] - 0s 11ms/step - loss: 59.8003 - mae: 59.8003\n",
            "Epoch 77/100\n",
            "1/1 [==============================] - 0s 9ms/step - loss: 1.0497 - mae: 1.0497\n",
            "Epoch 78/100\n",
            "1/1 [==============================] - 0s 9ms/step - loss: 59.8003 - mae: 59.8003\n",
            "Epoch 79/100\n",
            "1/1 [==============================] - 0s 7ms/step - loss: 1.0497 - mae: 1.0497\n",
            "Epoch 80/100\n",
            "1/1 [==============================] - 0s 7ms/step - loss: 59.8003 - mae: 59.8003\n",
            "Epoch 81/100\n",
            "1/1 [==============================] - 0s 8ms/step - loss: 1.0497 - mae: 1.0497\n",
            "Epoch 82/100\n",
            "1/1 [==============================] - 0s 9ms/step - loss: 59.8003 - mae: 59.8003\n",
            "Epoch 83/100\n",
            "1/1 [==============================] - 0s 9ms/step - loss: 1.0497 - mae: 1.0497\n",
            "Epoch 84/100\n",
            "1/1 [==============================] - 0s 19ms/step - loss: 59.8003 - mae: 59.8003\n",
            "Epoch 85/100\n",
            "1/1 [==============================] - 0s 11ms/step - loss: 1.0497 - mae: 1.0497\n",
            "Epoch 86/100\n",
            "1/1 [==============================] - 0s 7ms/step - loss: 59.8003 - mae: 59.8003\n",
            "Epoch 87/100\n",
            "1/1 [==============================] - 0s 7ms/step - loss: 1.0497 - mae: 1.0497\n",
            "Epoch 88/100\n",
            "1/1 [==============================] - 0s 6ms/step - loss: 59.8003 - mae: 59.8003\n",
            "Epoch 89/100\n",
            "1/1 [==============================] - 0s 6ms/step - loss: 1.0497 - mae: 1.0497\n",
            "Epoch 90/100\n",
            "1/1 [==============================] - 0s 6ms/step - loss: 59.8003 - mae: 59.8003\n",
            "Epoch 91/100\n",
            "1/1 [==============================] - 0s 6ms/step - loss: 1.0497 - mae: 1.0497\n",
            "Epoch 92/100\n",
            "1/1 [==============================] - 0s 6ms/step - loss: 59.8003 - mae: 59.8003\n",
            "Epoch 93/100\n",
            "1/1 [==============================] - 0s 6ms/step - loss: 1.0497 - mae: 1.0497\n",
            "Epoch 94/100\n",
            "1/1 [==============================] - 0s 6ms/step - loss: 59.8003 - mae: 59.8003\n",
            "Epoch 95/100\n",
            "1/1 [==============================] - 0s 6ms/step - loss: 1.0497 - mae: 1.0497\n",
            "Epoch 96/100\n",
            "1/1 [==============================] - 0s 6ms/step - loss: 59.8003 - mae: 59.8003\n",
            "Epoch 97/100\n",
            "1/1 [==============================] - 0s 6ms/step - loss: 1.0497 - mae: 1.0497\n",
            "Epoch 98/100\n",
            "1/1 [==============================] - 0s 6ms/step - loss: 59.8003 - mae: 59.8003\n",
            "Epoch 99/100\n",
            "1/1 [==============================] - 0s 7ms/step - loss: 1.0497 - mae: 1.0497\n",
            "Epoch 100/100\n",
            "1/1 [==============================] - 0s 7ms/step - loss: 59.8003 - mae: 59.8003\n"
          ]
        },
        {
          "output_type": "execute_result",
          "data": {
            "text/plain": [
              "<keras.callbacks.History at 0x7f57e62d8050>"
            ]
          },
          "metadata": {},
          "execution_count": 11
        }
      ]
    },
    {
      "cell_type": "code",
      "source": [
        "model.summary()"
      ],
      "metadata": {
        "colab": {
          "base_uri": "https://localhost:8080/"
        },
        "id": "ItIddCMe8AaV",
        "outputId": "e33299ff-28ca-4e7d-8ac3-6e760f66e72b"
      },
      "execution_count": 12,
      "outputs": [
        {
          "output_type": "stream",
          "name": "stdout",
          "text": [
            "Model: \"sequential\"\n",
            "_________________________________________________________________\n",
            " Layer (type)                Output Shape              Param #   \n",
            "=================================================================\n",
            " dense (Dense)               (None, 1)                 2         \n",
            "                                                                 \n",
            "=================================================================\n",
            "Total params: 2\n",
            "Trainable params: 2\n",
            "Non-trainable params: 0\n",
            "_________________________________________________________________\n"
          ]
        }
      ]
    },
    {
      "cell_type": "code",
      "source": [
        "tf.random.set_seed(69)\n",
        "model=tf.keras.Sequential([\n",
        "    tf.keras.layers.Dense(1)\n",
        "    \n",
        "])\n",
        "model.compile(loss=tf.keras.losses.mae,\n",
        "              optimizer=tf.keras.optimizers.SGD(),\n",
        "              metrics=[\"mae\"])\n",
        "model.fit(tf.expand_dims(X_train, axis=-1), tf.expand_dims(y_train, axis=-1), epochs=100)"
      ],
      "metadata": {
        "colab": {
          "base_uri": "https://localhost:8080/"
        },
        "id": "s_BmHyk-gGts",
        "outputId": "75349c88-892b-4e5b-e4ef-5492aa18f6e7"
      },
      "execution_count": 14,
      "outputs": [
        {
          "output_type": "stream",
          "name": "stdout",
          "text": [
            "Epoch 1/100\n",
            "2/2 [==============================] - 0s 7ms/step - loss: 13.8958 - mae: 13.8958\n",
            "Epoch 2/100\n",
            "2/2 [==============================] - 0s 5ms/step - loss: 13.2792 - mae: 13.2792\n",
            "Epoch 3/100\n",
            "2/2 [==============================] - 0s 7ms/step - loss: 11.8012 - mae: 11.8012\n",
            "Epoch 4/100\n",
            "2/2 [==============================] - 0s 6ms/step - loss: 5.2777 - mae: 5.2777\n",
            "Epoch 5/100\n",
            "2/2 [==============================] - 0s 8ms/step - loss: 4.5537 - mae: 4.5537\n",
            "Epoch 6/100\n",
            "2/2 [==============================] - 0s 16ms/step - loss: 4.6632 - mae: 4.6632\n",
            "Epoch 7/100\n",
            "2/2 [==============================] - 0s 5ms/step - loss: 4.2858 - mae: 4.2858\n",
            "Epoch 8/100\n",
            "2/2 [==============================] - 0s 8ms/step - loss: 4.0637 - mae: 4.0637\n",
            "Epoch 9/100\n",
            "2/2 [==============================] - 0s 7ms/step - loss: 4.1406 - mae: 4.1406\n",
            "Epoch 10/100\n",
            "2/2 [==============================] - 0s 5ms/step - loss: 5.0828 - mae: 5.0828\n",
            "Epoch 11/100\n",
            "2/2 [==============================] - 0s 5ms/step - loss: 4.7793 - mae: 4.7793\n",
            "Epoch 12/100\n",
            "2/2 [==============================] - 0s 5ms/step - loss: 4.7167 - mae: 4.7167\n",
            "Epoch 13/100\n",
            "2/2 [==============================] - 0s 5ms/step - loss: 4.9717 - mae: 4.9717\n",
            "Epoch 14/100\n",
            "2/2 [==============================] - 0s 8ms/step - loss: 3.9673 - mae: 3.9673\n",
            "Epoch 15/100\n",
            "2/2 [==============================] - 0s 5ms/step - loss: 4.0774 - mae: 4.0774\n",
            "Epoch 16/100\n",
            "2/2 [==============================] - 0s 5ms/step - loss: 5.8062 - mae: 5.8062\n",
            "Epoch 17/100\n",
            "2/2 [==============================] - 0s 6ms/step - loss: 12.0608 - mae: 12.0608\n",
            "Epoch 18/100\n",
            "2/2 [==============================] - 0s 10ms/step - loss: 11.9948 - mae: 11.9948\n",
            "Epoch 19/100\n",
            "2/2 [==============================] - 0s 8ms/step - loss: 12.3121 - mae: 12.3121\n",
            "Epoch 20/100\n",
            "2/2 [==============================] - 0s 4ms/step - loss: 13.3733 - mae: 13.3733\n",
            "Epoch 21/100\n",
            "2/2 [==============================] - 0s 8ms/step - loss: 9.7664 - mae: 9.7664\n",
            "Epoch 22/100\n",
            "2/2 [==============================] - 0s 8ms/step - loss: 8.0169 - mae: 8.0169\n",
            "Epoch 23/100\n",
            "2/2 [==============================] - 0s 20ms/step - loss: 8.9074 - mae: 8.9074\n",
            "Epoch 24/100\n",
            "2/2 [==============================] - 0s 8ms/step - loss: 10.4481 - mae: 10.4481\n",
            "Epoch 25/100\n",
            "2/2 [==============================] - 0s 7ms/step - loss: 9.6205 - mae: 9.6205\n",
            "Epoch 26/100\n",
            "2/2 [==============================] - 0s 6ms/step - loss: 17.7289 - mae: 17.7289\n",
            "Epoch 27/100\n",
            "2/2 [==============================] - 0s 9ms/step - loss: 11.0481 - mae: 11.0481\n",
            "Epoch 28/100\n",
            "2/2 [==============================] - 0s 6ms/step - loss: 9.0212 - mae: 9.0212\n",
            "Epoch 29/100\n",
            "2/2 [==============================] - 0s 10ms/step - loss: 13.6846 - mae: 13.6846\n",
            "Epoch 30/100\n",
            "2/2 [==============================] - 0s 7ms/step - loss: 12.1668 - mae: 12.1668\n",
            "Epoch 31/100\n",
            "2/2 [==============================] - 0s 11ms/step - loss: 13.6649 - mae: 13.6649\n",
            "Epoch 32/100\n",
            "2/2 [==============================] - 0s 13ms/step - loss: 14.4042 - mae: 14.4042\n",
            "Epoch 33/100\n",
            "2/2 [==============================] - 0s 9ms/step - loss: 13.6484 - mae: 13.6484\n",
            "Epoch 34/100\n",
            "2/2 [==============================] - 0s 6ms/step - loss: 10.2328 - mae: 10.2328\n",
            "Epoch 35/100\n",
            "2/2 [==============================] - 0s 4ms/step - loss: 4.9880 - mae: 4.9880\n",
            "Epoch 36/100\n",
            "2/2 [==============================] - 0s 5ms/step - loss: 4.0769 - mae: 4.0769\n",
            "Epoch 37/100\n",
            "2/2 [==============================] - 0s 4ms/step - loss: 5.1940 - mae: 5.1940\n",
            "Epoch 38/100\n",
            "2/2 [==============================] - 0s 6ms/step - loss: 4.8885 - mae: 4.8885\n",
            "Epoch 39/100\n",
            "2/2 [==============================] - 0s 6ms/step - loss: 5.4478 - mae: 5.4478\n",
            "Epoch 40/100\n",
            "2/2 [==============================] - 0s 8ms/step - loss: 4.1710 - mae: 4.1710\n",
            "Epoch 41/100\n",
            "2/2 [==============================] - 0s 10ms/step - loss: 4.3767 - mae: 4.3767\n",
            "Epoch 42/100\n",
            "2/2 [==============================] - 0s 12ms/step - loss: 4.4678 - mae: 4.4678\n",
            "Epoch 43/100\n",
            "2/2 [==============================] - 0s 7ms/step - loss: 6.7776 - mae: 6.7776\n",
            "Epoch 44/100\n",
            "2/2 [==============================] - 0s 6ms/step - loss: 5.2139 - mae: 5.2139\n",
            "Epoch 45/100\n",
            "2/2 [==============================] - 0s 9ms/step - loss: 5.3705 - mae: 5.3705\n",
            "Epoch 46/100\n",
            "2/2 [==============================] - 0s 7ms/step - loss: 8.4706 - mae: 8.4706\n",
            "Epoch 47/100\n",
            "2/2 [==============================] - 0s 13ms/step - loss: 8.8235 - mae: 8.8235\n",
            "Epoch 48/100\n",
            "2/2 [==============================] - 0s 4ms/step - loss: 8.3152 - mae: 8.3152\n",
            "Epoch 49/100\n",
            "2/2 [==============================] - 0s 5ms/step - loss: 8.5189 - mae: 8.5189\n",
            "Epoch 50/100\n",
            "2/2 [==============================] - 0s 6ms/step - loss: 6.6052 - mae: 6.6052\n",
            "Epoch 51/100\n",
            "2/2 [==============================] - 0s 5ms/step - loss: 4.9614 - mae: 4.9614\n",
            "Epoch 52/100\n",
            "2/2 [==============================] - 0s 5ms/step - loss: 4.2130 - mae: 4.2130\n",
            "Epoch 53/100\n",
            "2/2 [==============================] - 0s 5ms/step - loss: 4.6604 - mae: 4.6604\n",
            "Epoch 54/100\n",
            "2/2 [==============================] - 0s 9ms/step - loss: 4.7929 - mae: 4.7929\n",
            "Epoch 55/100\n",
            "2/2 [==============================] - 0s 6ms/step - loss: 4.3906 - mae: 4.3906\n",
            "Epoch 56/100\n",
            "2/2 [==============================] - 0s 11ms/step - loss: 6.2576 - mae: 6.2576\n",
            "Epoch 57/100\n",
            "2/2 [==============================] - 0s 16ms/step - loss: 4.5196 - mae: 4.5196\n",
            "Epoch 58/100\n",
            "2/2 [==============================] - 0s 8ms/step - loss: 4.2928 - mae: 4.2928\n",
            "Epoch 59/100\n",
            "2/2 [==============================] - 0s 15ms/step - loss: 4.7346 - mae: 4.7346\n",
            "Epoch 60/100\n",
            "2/2 [==============================] - 0s 6ms/step - loss: 5.7855 - mae: 5.7855\n",
            "Epoch 61/100\n",
            "2/2 [==============================] - 0s 4ms/step - loss: 6.5382 - mae: 6.5382\n",
            "Epoch 62/100\n",
            "2/2 [==============================] - 0s 4ms/step - loss: 4.4528 - mae: 4.4528\n",
            "Epoch 63/100\n",
            "2/2 [==============================] - 0s 6ms/step - loss: 5.6825 - mae: 5.6825\n",
            "Epoch 64/100\n",
            "2/2 [==============================] - 0s 5ms/step - loss: 9.4395 - mae: 9.4395\n",
            "Epoch 65/100\n",
            "2/2 [==============================] - 0s 5ms/step - loss: 6.3792 - mae: 6.3792\n",
            "Epoch 66/100\n",
            "2/2 [==============================] - 0s 14ms/step - loss: 3.4505 - mae: 3.4505\n",
            "Epoch 67/100\n",
            "2/2 [==============================] - 0s 12ms/step - loss: 7.3064 - mae: 7.3064\n",
            "Epoch 68/100\n",
            "2/2 [==============================] - 0s 11ms/step - loss: 4.1427 - mae: 4.1427\n",
            "Epoch 69/100\n",
            "2/2 [==============================] - 0s 12ms/step - loss: 5.0654 - mae: 5.0654\n",
            "Epoch 70/100\n",
            "2/2 [==============================] - 0s 12ms/step - loss: 6.1935 - mae: 6.1935\n",
            "Epoch 71/100\n",
            "2/2 [==============================] - 0s 9ms/step - loss: 9.3653 - mae: 9.3653\n",
            "Epoch 72/100\n",
            "2/2 [==============================] - 0s 11ms/step - loss: 15.4406 - mae: 15.4406\n",
            "Epoch 73/100\n",
            "2/2 [==============================] - 0s 9ms/step - loss: 5.0455 - mae: 5.0455\n",
            "Epoch 74/100\n",
            "2/2 [==============================] - 0s 10ms/step - loss: 5.2287 - mae: 5.2287\n",
            "Epoch 75/100\n",
            "2/2 [==============================] - 0s 6ms/step - loss: 5.9034 - mae: 5.9034\n",
            "Epoch 76/100\n",
            "2/2 [==============================] - 0s 8ms/step - loss: 6.4571 - mae: 6.4571\n",
            "Epoch 77/100\n",
            "2/2 [==============================] - 0s 11ms/step - loss: 5.6475 - mae: 5.6475\n",
            "Epoch 78/100\n",
            "2/2 [==============================] - 0s 4ms/step - loss: 5.0526 - mae: 5.0526\n",
            "Epoch 79/100\n",
            "2/2 [==============================] - 0s 7ms/step - loss: 6.8342 - mae: 6.8342\n",
            "Epoch 80/100\n",
            "2/2 [==============================] - 0s 5ms/step - loss: 9.8515 - mae: 9.8515\n",
            "Epoch 81/100\n",
            "2/2 [==============================] - 0s 8ms/step - loss: 9.0900 - mae: 9.0900\n",
            "Epoch 82/100\n",
            "2/2 [==============================] - 0s 6ms/step - loss: 5.9089 - mae: 5.9089\n",
            "Epoch 83/100\n",
            "2/2 [==============================] - 0s 16ms/step - loss: 7.4921 - mae: 7.4921\n",
            "Epoch 84/100\n",
            "2/2 [==============================] - 0s 9ms/step - loss: 6.4303 - mae: 6.4303\n",
            "Epoch 85/100\n",
            "2/2 [==============================] - 0s 19ms/step - loss: 7.1057 - mae: 7.1057\n",
            "Epoch 86/100\n",
            "2/2 [==============================] - 0s 9ms/step - loss: 11.9413 - mae: 11.9413\n",
            "Epoch 87/100\n",
            "2/2 [==============================] - 0s 5ms/step - loss: 14.9053 - mae: 14.9053\n",
            "Epoch 88/100\n",
            "2/2 [==============================] - 0s 9ms/step - loss: 15.3306 - mae: 15.3306\n",
            "Epoch 89/100\n",
            "2/2 [==============================] - 0s 13ms/step - loss: 13.0396 - mae: 13.0396\n",
            "Epoch 90/100\n",
            "2/2 [==============================] - 0s 9ms/step - loss: 19.3761 - mae: 19.3761\n",
            "Epoch 91/100\n",
            "2/2 [==============================] - 0s 8ms/step - loss: 11.0895 - mae: 11.0895\n",
            "Epoch 92/100\n",
            "2/2 [==============================] - 0s 10ms/step - loss: 22.8615 - mae: 22.8615\n",
            "Epoch 93/100\n",
            "2/2 [==============================] - 0s 7ms/step - loss: 9.3073 - mae: 9.3073\n",
            "Epoch 94/100\n",
            "2/2 [==============================] - 0s 9ms/step - loss: 11.6163 - mae: 11.6163\n",
            "Epoch 95/100\n",
            "2/2 [==============================] - 0s 9ms/step - loss: 11.6138 - mae: 11.6138\n",
            "Epoch 96/100\n",
            "2/2 [==============================] - 0s 10ms/step - loss: 9.9868 - mae: 9.9868\n",
            "Epoch 97/100\n",
            "2/2 [==============================] - 0s 9ms/step - loss: 13.3219 - mae: 13.3219\n",
            "Epoch 98/100\n",
            "2/2 [==============================] - 0s 9ms/step - loss: 9.6818 - mae: 9.6818\n",
            "Epoch 99/100\n",
            "2/2 [==============================] - 0s 14ms/step - loss: 11.8600 - mae: 11.8600\n",
            "Epoch 100/100\n",
            "2/2 [==============================] - 0s 4ms/step - loss: 15.6223 - mae: 15.6223\n"
          ]
        },
        {
          "output_type": "execute_result",
          "data": {
            "text/plain": [
              "<keras.callbacks.History at 0x7f57e235a3d0>"
            ]
          },
          "metadata": {},
          "execution_count": 14
        }
      ]
    },
    {
      "cell_type": "code",
      "source": [
        "tf.random.set_seed(7)\n",
        "model=tf.keras.Sequential([\n",
        "    tf.keras.layers.Dense(10, input_shape=[1], name=\"zizz\"),\n",
        "    tf.keras.layers.Dense(1, name=\"titi\")\n",
        "], name=\"babooo\")\n",
        "model.compile(loss=tf.keras.losses.mae,\n",
        "              optimizer=tf.keras.optimizers.SGD(),\n",
        "              metrics=[\"mae\"])\n",
        "model.fit(tf.expand_dims(X_train, axis=-1), tf.expand_dims(y_train, axis=-1), epochs=100, verbose=0)\n"
      ],
      "metadata": {
        "colab": {
          "base_uri": "https://localhost:8080/"
        },
        "id": "l11CyhISczH5",
        "outputId": "a0389a63-fbc6-4877-fff1-23562892b326"
      },
      "execution_count": 26,
      "outputs": [
        {
          "output_type": "execute_result",
          "data": {
            "text/plain": [
              "<keras.callbacks.History at 0x7f57e4f70a10>"
            ]
          },
          "metadata": {},
          "execution_count": 26
        }
      ]
    },
    {
      "cell_type": "code",
      "source": [
        "model.summary()"
      ],
      "metadata": {
        "colab": {
          "base_uri": "https://localhost:8080/"
        },
        "id": "bwWa2ozZe8D1",
        "outputId": "81284a39-5fa3-4c9f-e942-c0a6e219d565"
      },
      "execution_count": 27,
      "outputs": [
        {
          "output_type": "stream",
          "name": "stdout",
          "text": [
            "Model: \"babooo\"\n",
            "_________________________________________________________________\n",
            " Layer (type)                Output Shape              Param #   \n",
            "=================================================================\n",
            " zizz (Dense)                (None, 10)                20        \n",
            "                                                                 \n",
            " titi (Dense)                (None, 1)                 11        \n",
            "                                                                 \n",
            "=================================================================\n",
            "Total params: 31\n",
            "Trainable params: 31\n",
            "Non-trainable params: 0\n",
            "_________________________________________________________________\n"
          ]
        }
      ]
    },
    {
      "cell_type": "code",
      "source": [
        "Trainable parameters"
      ],
      "metadata": {
        "colab": {
          "base_uri": "https://localhost:8080/",
          "height": 130
        },
        "id": "Y5XPXfi-e62u",
        "outputId": "bda35bb6-dea9-4dfc-d003-d9c7ab98845b"
      },
      "execution_count": 18,
      "outputs": [
        {
          "output_type": "error",
          "ename": "SyntaxError",
          "evalue": "ignored",
          "traceback": [
            "\u001b[0;36m  File \u001b[0;32m\"<ipython-input-18-b31defd7b496>\"\u001b[0;36m, line \u001b[0;32m1\u001b[0m\n\u001b[0;31m    Trainable parameters\u001b[0m\n\u001b[0m                       ^\u001b[0m\n\u001b[0;31mSyntaxError\u001b[0m\u001b[0;31m:\u001b[0m invalid syntax\n"
          ]
        }
      ]
    },
    {
      "cell_type": "code",
      "source": [
        "from tensorflow.keras.utils import plot_model\n",
        "plot_model(model=model, show_shapes=True)"
      ],
      "metadata": {
        "colab": {
          "base_uri": "https://localhost:8080/",
          "height": 312
        },
        "id": "4hOVI8zQfE1S",
        "outputId": "c08cb726-19bf-4dd9-8e4f-fadc2cf0592e"
      },
      "execution_count": 28,
      "outputs": [
        {
          "output_type": "execute_result",
          "data": {
            "image/png": "[encoded data removed]",
            "text/plain": [
              "<IPython.core.display.Image object>"
            ]
          },
          "metadata": {},
          "execution_count": 28
        }
      ]
    },
    {
      "cell_type": "code",
      "source": [
        " "
      ],
      "metadata": {
        "id": "Ikwhu5GylZzq"
      },
      "execution_count": null,
      "outputs": []
    }
  ]
}