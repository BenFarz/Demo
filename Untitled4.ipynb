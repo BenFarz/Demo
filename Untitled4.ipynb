{
  "nbformat": 4,
  "nbformat_minor": 0,
  "metadata": {
    "colab": {
      "name": "Untitled4.ipynb",
      "provenance": [],
      "authorship_tag": "ABX9TyMFv8v4u1g4rSIeoLg8Bh6y",
      "include_colab_link": true
    },
    "kernelspec": {
      "name": "python3",
      "display_name": "Python 3"
    },
    "language_info": {
      "name": "python"
    }
  },
  "cells": [
    {
      "cell_type": "markdown",
      "metadata": {
        "id": "view-in-github",
        "colab_type": "text"
      },
      "source": [
        "<a href=\"https://colab.research.google.com/github/BenFarz/Demo/blob/main/Untitled4.ipynb\" target=\"_parent\"><img src=\"https://colab.research.google.com/assets/colab-badge.svg\" alt=\"Open In Colab\"/></a>"
      ]
    },
    {
      "cell_type": "code",
      "execution_count": 1,
      "metadata": {
        "id": "Zjozbc1Oy3NM"
      },
      "outputs": [],
      "source": [
        "import tensorflow as tf"
      ]
    },
    {
      "cell_type": "code",
      "source": [
        "import numpy as np"
      ],
      "metadata": {
        "id": "TN4YXzXby6f7"
      },
      "execution_count": 2,
      "outputs": []
    },
    {
      "cell_type": "code",
      "source": [
        "tf.__version__"
      ],
      "metadata": {
        "colab": {
          "base_uri": "https://localhost:8080/",
          "height": 35
        },
        "id": "xPhMyHS6y8vL",
        "outputId": "a442192b-5365-44db-9954-8c7367656b9a"
      },
      "execution_count": 3,
      "outputs": [
        {
          "output_type": "execute_result",
          "data": {
            "text/plain": [
              "'2.8.2'"
            ],
            "application/vnd.google.colaboratory.intrinsic+json": {
              "type": "string"
            }
          },
          "metadata": {},
          "execution_count": 3
        }
      ]
    },
    {
      "cell_type": "code",
      "source": [
        "import matplotlib.pyplot as plt"
      ],
      "metadata": {
        "id": "y2wVcMD4y-ph"
      },
      "execution_count": 4,
      "outputs": []
    },
    {
      "cell_type": "code",
      "source": [
        "X = tf.range(-100,100,4)\n",
        "y=X+11\n",
        "X,y"
      ],
      "metadata": {
        "colab": {
          "base_uri": "https://localhost:8080/"
        },
        "id": "J7clYSkkzaOr",
        "outputId": "aa546776-eb0a-4fa5-9d2e-d7ddafbc6a8d"
      },
      "execution_count": 5,
      "outputs": [
        {
          "output_type": "execute_result",
          "data": {
            "text/plain": [
              "(<tf.Tensor: shape=(50,), dtype=int32, numpy=\n",
              " array([-100,  -96,  -92,  -88,  -84,  -80,  -76,  -72,  -68,  -64,  -60,\n",
              "         -56,  -52,  -48,  -44,  -40,  -36,  -32,  -28,  -24,  -20,  -16,\n",
              "         -12,   -8,   -4,    0,    4,    8,   12,   16,   20,   24,   28,\n",
              "          32,   36,   40,   44,   48,   52,   56,   60,   64,   68,   72,\n",
              "          76,   80,   84,   88,   92,   96], dtype=int32)>,\n",
              " <tf.Tensor: shape=(50,), dtype=int32, numpy=\n",
              " array([-89, -85, -81, -77, -73, -69, -65, -61, -57, -53, -49, -45, -41,\n",
              "        -37, -33, -29, -25, -21, -17, -13,  -9,  -5,  -1,   3,   7,  11,\n",
              "         15,  19,  23,  27,  31,  35,  39,  43,  47,  51,  55,  59,  63,\n",
              "         67,  71,  75,  79,  83,  87,  91,  95,  99, 103, 107], dtype=int32)>)"
            ]
          },
          "metadata": {},
          "execution_count": 5
        }
      ]
    },
    {
      "cell_type": "code",
      "source": [
        "X_train=X[:40]\n",
        "y_train=y[:40]\n",
        "X_test = X[40:]\n",
        "y_test = y[40:]\n"
      ],
      "metadata": {
        "id": "n85XMDkJzpBh"
      },
      "execution_count": 6,
      "outputs": []
    },
    {
      "cell_type": "code",
      "source": [
        "import matplotlib.pyplot as plt\n",
        "plt.figure(figsize=(10,7))\n",
        "plt.scatter(X_train, y_train, c=\"r\", label=\"Train_data\")\n",
        "plt.scatter(X_test, y_test, c=\"b\", label=\"Test\")\n",
        "plt.acorr"
      ],
      "metadata": {
        "colab": {
          "base_uri": "https://localhost:8080/",
          "height": 445
        },
        "id": "QZZaJrBv0O9c",
        "outputId": "d2b0b163-3a8c-4270-c4af-1817c5f25943"
      },
      "execution_count": 14,
      "outputs": [
        {
          "output_type": "execute_result",
          "data": {
            "text/plain": [
              "<function matplotlib.pyplot.acorr(x, *, data=None, **kwargs)>"
            ]
          },
          "metadata": {},
          "execution_count": 14
        },
        {
          "output_type": "display_data",
          "data": {
            "text/plain": [
              "<Figure size 720x504 with 1 Axes>"
            ],
            "image/png": "[encoded data removed]"
          },
          "metadata": {
            "needs_background": "light"
          }
        }
      ]
    },
    {
      "cell_type": "code",
      "source": [
        "model = tf.keras.Sequential([\n",
        "    tf.keras.layers.Dense(1)\n",
        "])\n",
        "model.compile(loss=tf.keras.losses.mae,\n",
        "              optimizer=tf.keras.optimizers.SGD(),\n",
        "              metrics=[\"mae\"])\n",
        "model.fit((tf.expand_dims(X_train, axis=-1)),(tf.expand_dims(y_train, axis=-1)), epochs = 100, verbose=0)"
      ],
      "metadata": {
        "colab": {
          "base_uri": "https://localhost:8080/"
        },
        "id": "McIDVaTX1I5b",
        "outputId": "f0ed0b39-36b7-4d0e-9e66-ee1eeed0cebc"
      },
      "execution_count": 17,
      "outputs": [
        {
          "output_type": "execute_result",
          "data": {
            "text/plain": [
              "<keras.callbacks.History at 0x7f1ac555dd90>"
            ]
          },
          "metadata": {},
          "execution_count": 17
        }
      ]
    },
    {
      "cell_type": "code",
      "source": [
        "\n",
        "model.summary()"
      ],
      "metadata": {
        "colab": {
          "base_uri": "https://localhost:8080/"
        },
        "id": "Bo3thWx93BAy",
        "outputId": "345abb53-f3bf-488c-a64e-46f5676b74ab"
      },
      "execution_count": 18,
      "outputs": [
        {
          "output_type": "stream",
          "name": "stdout",
          "text": [
            "Model: \"sequential_1\"\n",
            "_________________________________________________________________\n",
            " Layer (type)                Output Shape              Param #   \n",
            "=================================================================\n",
            " dense_1 (Dense)             (None, 1)                 2         \n",
            "                                                                 \n",
            "=================================================================\n",
            "Total params: 2\n",
            "Trainable params: 2\n",
            "Non-trainable params: 0\n",
            "_________________________________________________________________\n"
          ]
        }
      ]
    },
    {
      "cell_type": "code",
      "source": [
        "y_pred = model.predict(X_test)"
      ],
      "metadata": {
        "id": "M-ISWR7B3C1H"
      },
      "execution_count": 19,
      "outputs": []
    },
    {
      "cell_type": "code",
      "source": [
        "plt.scatter(X_test, y_test, c=\"g\", label=\"input_data\")\n",
        "plt.scatter(X_train, y_train, c=\"b\", label= \"currect_test\")\n",
        "plt.scatter(X_test, y_pred  , c=\"r\", label=\"prediction\")\n",
        "plt.legend()\n"
      ],
      "metadata": {
        "colab": {
          "base_uri": "https://localhost:8080/",
          "height": 282
        },
        "id": "fhFWz89x300x",
        "outputId": "0d6d9cdd-9059-4ad1-ba0d-21cb2bd68f8a"
      },
      "execution_count": 20,
      "outputs": [
        {
          "output_type": "execute_result",
          "data": {
            "text/plain": [
              "<matplotlib.legend.Legend at 0x7f1ac4b3a590>"
            ]
          },
          "metadata": {},
          "execution_count": 20
        },
        {
          "output_type": "display_data",
          "data": {
            "text/plain": [
              "<Figure size 432x288 with 1 Axes>"
            ],
            "image/png": "[encoded data removed]"
          },
          "metadata": {
            "needs_background": "light"
          }
        }
      ]
    },
    {
      "cell_type": "code",
      "source": [
        "import tensorflow as tf\n",
        "import numpy as np\n",
        "import matplotlib.pyplot as plt\n",
        "plt.figure(figsize=(10,7))\n",
        "X=np.arange(-100,100, dtype=np.float16)\n",
        "y=X+9\n",
        "X,y"
      ],
      "metadata": {
        "colab": {
          "base_uri": "https://localhost:8080/",
          "height": 763
        },
        "id": "u8gWzySO4adr",
        "outputId": "15fce019-b966-454c-c176-bfae2057e893"
      },
      "execution_count": 9,
      "outputs": [
        {
          "output_type": "execute_result",
          "data": {
            "text/plain": [
              "(array([-100.,  -99.,  -98.,  -97.,  -96.,  -95.,  -94.,  -93.,  -92.,\n",
              "         -91.,  -90.,  -89.,  -88.,  -87.,  -86.,  -85.,  -84.,  -83.,\n",
              "         -82.,  -81.,  -80.,  -79.,  -78.,  -77.,  -76.,  -75.,  -74.,\n",
              "         -73.,  -72.,  -71.,  -70.,  -69.,  -68.,  -67.,  -66.,  -65.,\n",
              "         -64.,  -63.,  -62.,  -61.,  -60.,  -59.,  -58.,  -57.,  -56.,\n",
              "         -55.,  -54.,  -53.,  -52.,  -51.,  -50.,  -49.,  -48.,  -47.,\n",
              "         -46.,  -45.,  -44.,  -43.,  -42.,  -41.,  -40.,  -39.,  -38.,\n",
              "         -37.,  -36.,  -35.,  -34.,  -33.,  -32.,  -31.,  -30.,  -29.,\n",
              "         -28.,  -27.,  -26.,  -25.,  -24.,  -23.,  -22.,  -21.,  -20.,\n",
              "         -19.,  -18.,  -17.,  -16.,  -15.,  -14.,  -13.,  -12.,  -11.,\n",
              "         -10.,   -9.,   -8.,   -7.,   -6.,   -5.,   -4.,   -3.,   -2.,\n",
              "          -1.,    0.,    1.,    2.,    3.,    4.,    5.,    6.,    7.,\n",
              "           8.,    9.,   10.,   11.,   12.,   13.,   14.,   15.,   16.,\n",
              "          17.,   18.,   19.,   20.,   21.,   22.,   23.,   24.,   25.,\n",
              "          26.,   27.,   28.,   29.,   30.,   31.,   32.,   33.,   34.,\n",
              "          35.,   36.,   37.,   38.,   39.,   40.,   41.,   42.,   43.,\n",
              "          44.,   45.,   46.,   47.,   48.,   49.,   50.,   51.,   52.,\n",
              "          53.,   54.,   55.,   56.,   57.,   58.,   59.,   60.,   61.,\n",
              "          62.,   63.,   64.,   65.,   66.,   67.,   68.,   69.,   70.,\n",
              "          71.,   72.,   73.,   74.,   75.,   76.,   77.,   78.,   79.,\n",
              "          80.,   81.,   82.,   83.,   84.,   85.,   86.,   87.,   88.,\n",
              "          89.,   90.,   91.,   92.,   93.,   94.,   95.,   96.,   97.,\n",
              "          98.,   99.], dtype=float16),\n",
              " array([-91., -90., -89., -88., -87., -86., -85., -84., -83., -82., -81.,\n",
              "        -80., -79., -78., -77., -76., -75., -74., -73., -72., -71., -70.,\n",
              "        -69., -68., -67., -66., -65., -64., -63., -62., -61., -60., -59.,\n",
              "        -58., -57., -56., -55., -54., -53., -52., -51., -50., -49., -48.,\n",
              "        -47., -46., -45., -44., -43., -42., -41., -40., -39., -38., -37.,\n",
              "        -36., -35., -34., -33., -32., -31., -30., -29., -28., -27., -26.,\n",
              "        -25., -24., -23., -22., -21., -20., -19., -18., -17., -16., -15.,\n",
              "        -14., -13., -12., -11., -10.,  -9.,  -8.,  -7.,  -6.,  -5.,  -4.,\n",
              "         -3.,  -2.,  -1.,   0.,   1.,   2.,   3.,   4.,   5.,   6.,   7.,\n",
              "          8.,   9.,  10.,  11.,  12.,  13.,  14.,  15.,  16.,  17.,  18.,\n",
              "         19.,  20.,  21.,  22.,  23.,  24.,  25.,  26.,  27.,  28.,  29.,\n",
              "         30.,  31.,  32.,  33.,  34.,  35.,  36.,  37.,  38.,  39.,  40.,\n",
              "         41.,  42.,  43.,  44.,  45.,  46.,  47.,  48.,  49.,  50.,  51.,\n",
              "         52.,  53.,  54.,  55.,  56.,  57.,  58.,  59.,  60.,  61.,  62.,\n",
              "         63.,  64.,  65.,  66.,  67.,  68.,  69.,  70.,  71.,  72.,  73.,\n",
              "         74.,  75.,  76.,  77.,  78.,  79.,  80.,  81.,  82.,  83.,  84.,\n",
              "         85.,  86.,  87.,  88.,  89.,  90.,  91.,  92.,  93.,  94.,  95.,\n",
              "         96.,  97.,  98.,  99., 100., 101., 102., 103., 104., 105., 106.,\n",
              "        107., 108.], dtype=float16))"
            ]
          },
          "metadata": {},
          "execution_count": 9
        },
        {
          "output_type": "display_data",
          "data": {
            "text/plain": [
              "<Figure size 720x504 with 0 Axes>"
            ]
          },
          "metadata": {}
        }
      ]
    },
    {
      "cell_type": "code",
      "source": [
        "X.shape"
      ],
      "metadata": {
        "colab": {
          "base_uri": "https://localhost:8080/"
        },
        "id": "dv_aDsF1Ed35",
        "outputId": "a95edb2a-1e27-4485-c9c6-a58b6d65039d"
      },
      "execution_count": 10,
      "outputs": [
        {
          "output_type": "execute_result",
          "data": {
            "text/plain": [
              "(200,)"
            ]
          },
          "metadata": {},
          "execution_count": 10
        }
      ]
    },
    {
      "cell_type": "code",
      "source": [
        "X=tf.cast(X, dtype=tf.float32)\n",
        "tf.shape(X)"
      ],
      "metadata": {
        "colab": {
          "base_uri": "https://localhost:8080/"
        },
        "id": "zuv67wJLFksG",
        "outputId": "1829ec3d-1e6c-4f68-c54e-6be0878303f9"
      },
      "execution_count": 19,
      "outputs": [
        {
          "output_type": "execute_result",
          "data": {
            "text/plain": [
              "<tf.Tensor: shape=(1,), dtype=int32, numpy=array([200], dtype=int32)>"
            ]
          },
          "metadata": {},
          "execution_count": 19
        }
      ]
    },
    {
      "cell_type": "code",
      "source": [
        "X=tf.cast(X, dtype=tf.float16)\n"
      ],
      "metadata": {
        "id": "PTMg0b84Fpp6"
      },
      "execution_count": 17,
      "outputs": []
    },
    {
      "cell_type": "code",
      "source": [
        "tf.shape(X[0])"
      ],
      "metadata": {
        "colab": {
          "base_uri": "https://localhost:8080/"
        },
        "id": "xDDBPyJiF7Ao",
        "outputId": "b5c56825-9d4a-4164-e8d7-79e29e034137"
      },
      "execution_count": 18,
      "outputs": [
        {
          "output_type": "execute_result",
          "data": {
            "text/plain": [
              "<tf.Tensor: shape=(0,), dtype=int32, numpy=array([], dtype=int32)>"
            ]
          },
          "metadata": {},
          "execution_count": 18
        }
      ]
    },
    {
      "cell_type": "code",
      "source": [
        ""
      ],
      "metadata": {
        "id": "LVVOvZm7GB28"
      },
      "execution_count": null,
      "outputs": []
    }
  ]
}