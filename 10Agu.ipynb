{
  "nbformat": 4,
  "nbformat_minor": 0,
  "metadata": {
    "colab": {
      "name": "Untitled0.ipynb",
      "provenance": [],
      "authorship_tag": "ABX9TyOxjj0jI2XTp8ixJDbnkLNp",
      "include_colab_link": true
    },
    "kernelspec": {
      "name": "python3",
      "display_name": "Python 3"
    },
    "language_info": {
      "name": "python"
    }
  },
  "cells": [
    {
      "cell_type": "markdown",
      "metadata": {
        "id": "view-in-github",
        "colab_type": "text"
      },
      "source": [
        "<a href=\"https://colab.research.google.com/github/BenFarz/Demo/blob/main/10Agu.ipynb\" target=\"_parent\"><img src=\"https://colab.research.google.com/assets/colab-badge.svg\" alt=\"Open In Colab\"/></a>"
      ]
    },
    {
      "cell_type": "code",
      "execution_count": 1,
      "metadata": {
        "id": "xWEMn2KwYIMe"
      },
      "outputs": [],
      "source": [
        "import tensorflow as tf"
      ]
    },
    {
      "cell_type": "code",
      "source": [
        "tf.__version__"
      ],
      "metadata": {
        "colab": {
          "base_uri": "https://localhost:8080/",
          "height": 35
        },
        "id": "eDzLdo-6YMUt",
        "outputId": "c128a942-5e90-4bd6-d09b-bd9760b6ee5c"
      },
      "execution_count": 2,
      "outputs": [
        {
          "output_type": "execute_result",
          "data": {
            "text/plain": [
              "'2.8.2'"
            ],
            "application/vnd.google.colaboratory.intrinsic+json": {
              "type": "string"
            }
          },
          "metadata": {},
          "execution_count": 2
        }
      ]
    },
    {
      "cell_type": "code",
      "source": [
        "import numpy as np"
      ],
      "metadata": {
        "id": "piKIGY95YRRu"
      },
      "execution_count": 3,
      "outputs": []
    },
    {
      "cell_type": "code",
      "source": [
        "X=tf.cast(tf.expand_dims(tf.constant([-3., -1., 1., 3., 5., 7., 9.]), axis=-1), dtype=tf.float32)\n",
        "y=tf.cast(tf.expand_dims(tf.constant([-35, -30., -25., -20., -15., -10., -5.]), axis=-1), dtype=tf.float32)\n",
        "X,y, X.ndim, y.ndim, tf.shape(X), tf.size(X), tf.shape(y), tf.size(y), tf.argmax(X), tf.argmax(y)\n",
        "\n",
        "\n"
      ],
      "metadata": {
        "colab": {
          "base_uri": "https://localhost:8080/"
        },
        "id": "3Es76-JpYVCR",
        "outputId": "31a79bcf-a802-4f5e-bff2-2399ad96634d"
      },
      "execution_count": 8,
      "outputs": [
        {
          "output_type": "execute_result",
          "data": {
            "text/plain": [
              "(<tf.Tensor: shape=(7, 1), dtype=float32, numpy=\n",
              " array([[-3.],\n",
              "        [-1.],\n",
              "        [ 1.],\n",
              "        [ 3.],\n",
              "        [ 5.],\n",
              "        [ 7.],\n",
              "        [ 9.]], dtype=float32)>,\n",
              " <tf.Tensor: shape=(7, 1), dtype=float32, numpy=\n",
              " array([[-35.],\n",
              "        [-30.],\n",
              "        [-25.],\n",
              "        [-20.],\n",
              "        [-15.],\n",
              "        [-10.],\n",
              "        [ -5.]], dtype=float32)>,\n",
              " 2,\n",
              " 2,\n",
              " <tf.Tensor: shape=(2,), dtype=int32, numpy=array([7, 1], dtype=int32)>,\n",
              " <tf.Tensor: shape=(), dtype=int32, numpy=7>,\n",
              " <tf.Tensor: shape=(2,), dtype=int32, numpy=array([7, 1], dtype=int32)>,\n",
              " <tf.Tensor: shape=(), dtype=int32, numpy=7>,\n",
              " <tf.Tensor: shape=(1,), dtype=int64, numpy=array([6])>,\n",
              " <tf.Tensor: shape=(1,), dtype=int64, numpy=array([6])>)"
            ]
          },
          "metadata": {},
          "execution_count": 8
        }
      ]
    },
    {
      "cell_type": "code",
      "source": [
        "import matplotlib.pyplot as plt"
      ],
      "metadata": {
        "id": "Y9undXJ8bDk4"
      },
      "execution_count": 10,
      "outputs": []
    },
    {
      "cell_type": "code",
      "source": [
        "plt.scatter(X,y)"
      ],
      "metadata": {
        "colab": {
          "base_uri": "https://localhost:8080/",
          "height": 282
        },
        "id": "LNUObL-gbNZt",
        "outputId": "4db1db8f-ae2a-4525-b7f6-b7ccbc53ad52"
      },
      "execution_count": 11,
      "outputs": [
        {
          "output_type": "execute_result",
          "data": {
            "text/plain": [
              "<matplotlib.collections.PathCollection at 0x7f821bc64410>"
            ]
          },
          "metadata": {},
          "execution_count": 11
        },
        {
          "output_type": "display_data",
          "data": {
            "text/plain": [
              "<Figure size 432x288 with 1 Axes>"
            ],
            "image/png": "[encoded data removed]"
          },
          "metadata": {
            "needs_background": "light"
          }
        }
      ]
    },
    {
      "cell_type": "code",
      "source": [
        ""
      ],
      "metadata": {
        "id": "TuqyB3mnbaGT"
      },
      "execution_count": null,
      "outputs": []
    }
  ]
}