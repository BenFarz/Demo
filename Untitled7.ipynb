{
  "nbformat": 4,
  "nbformat_minor": 0,
  "metadata": {
    "colab": {
      "name": "Untitled7.ipynb",
      "provenance": [],
      "authorship_tag": "ABX9TyPC9XmdtjsnZtLIfiWhyPio",
      "include_colab_link": true
    },
    "kernelspec": {
      "name": "python3",
      "display_name": "Python 3"
    },
    "language_info": {
      "name": "python"
    }
  },
  "cells": [
    {
      "cell_type": "markdown",
      "metadata": {
        "id": "view-in-github",
        "colab_type": "text"
      },
      "source": [
        "<a href=\"https://colab.research.google.com/github/BenFarz/Demo/blob/main/Untitled7.ipynb\" target=\"_parent\"><img src=\"https://colab.research.google.com/assets/colab-badge.svg\" alt=\"Open In Colab\"/></a>"
      ]
    },
    {
      "cell_type": "code",
      "execution_count": 1,
      "metadata": {
        "id": "U1yEjp-gU8Ji"
      },
      "outputs": [],
      "source": [
        "import tensorflow as tf"
      ]
    },
    {
      "cell_type": "code",
      "source": [
        "tf.__version__"
      ],
      "metadata": {
        "colab": {
          "base_uri": "https://localhost:8080/",
          "height": 35
        },
        "id": "fFIzFCRmVfvA",
        "outputId": "58a9eaa9-2824-4e69-ca79-6e8743dfc357"
      },
      "execution_count": 2,
      "outputs": [
        {
          "output_type": "execute_result",
          "data": {
            "text/plain": [
              "'2.8.2'"
            ],
            "application/vnd.google.colaboratory.intrinsic+json": {
              "type": "string"
            }
          },
          "metadata": {},
          "execution_count": 2
        }
      ]
    },
    {
      "cell_type": "code",
      "source": [
        "import numpy as np"
      ],
      "metadata": {
        "id": "pCWewWzDVhmE"
      },
      "execution_count": 3,
      "outputs": []
    },
    {
      "cell_type": "code",
      "source": [
        "X = tf.range(-100, 100, 4)\n",
        "y=X+10"
      ],
      "metadata": {
        "id": "tO9Q8fk1Vjbz"
      },
      "execution_count": 4,
      "outputs": []
    },
    {
      "cell_type": "code",
      "source": [
        "X=tf.expand_dims(X, axis=-1)\n",
        "y=tf.expand_dims(y, axis = -1)"
      ],
      "metadata": {
        "id": "5HxqoFhjWCHO"
      },
      "execution_count": 5,
      "outputs": []
    },
    {
      "cell_type": "code",
      "source": [
        "X_train = X[:40]\n",
        "y_train = y[:40]\n",
        "X_test = X[40:]\n",
        "y_test  = y[40:]"
      ],
      "metadata": {
        "id": "7f7-9GuiVpge"
      },
      "execution_count": 18,
      "outputs": []
    },
    {
      "cell_type": "code",
      "source": [
        "tf.shape(X)"
      ],
      "metadata": {
        "colab": {
          "base_uri": "https://localhost:8080/"
        },
        "id": "h12VyVi4WBB2",
        "outputId": "4ec74b32-cf30-45e7-e74a-8436b4f8646f"
      },
      "execution_count": 7,
      "outputs": [
        {
          "output_type": "execute_result",
          "data": {
            "text/plain": [
              "<tf.Tensor: shape=(2,), dtype=int32, numpy=array([50,  1], dtype=int32)>"
            ]
          },
          "metadata": {},
          "execution_count": 7
        }
      ]
    },
    {
      "cell_type": "code",
      "source": [
        "tf.random.set_seed(42)\n",
        "model1 = tf.keras.Sequential([\n",
        "                          tf.keras.layers.Dense(1)\n",
        "                          ])\n",
        "model1.compile(loss=tf.keras.losses.mae,\n",
        "               optimizer=tf.keras.optimizers.SGD(),\n",
        "               metrics=[\"mae\"])\n",
        "model1.fit(X_train, y_train, epochs=100)"
      ],
      "metadata": {
        "id": "6VKfzcQoWTgH"
      },
      "execution_count": null,
      "outputs": []
    },
    {
      "cell_type": "code",
      "source": [
        "tf.random.set_seed(42)\n",
        "model2=tf.keras.Sequential([\n",
        "    tf.keras.layers.Dense(100),\n",
        "    tf.keras.layers.Dense(1)\n",
        "])\n",
        "model2.compile(loss=tf.keras.losses.mae,\n",
        "               optimizer=tf.keras.optimizers.SGD(),\n",
        "               metrics=[\"mae\"])\n",
        "model2.fit(X_train, y_train, epochs=100)"
      ],
      "metadata": {
        "id": "5AUw8A0AXErd"
      },
      "execution_count": null,
      "outputs": []
    },
    {
      "cell_type": "code",
      "source": [
        "tf.random.set_seed(42)\n",
        "model3 = tf.keras.Sequential([\n",
        "    tf.keras.layers.Dense(100),\n",
        "    tf.keras.layers.Dense(1)\n",
        "])\n",
        "model3.compile(loss=tf.keras.losses.mae,\n",
        "               optimizer=tf.keras.optimizers.SGD(),\n",
        "               metrics=[\"mae\"])\n",
        "model3.fit(X_train, y_train, epochs=500)"
      ],
      "metadata": {
        "id": "1gVHMGLeXlT1"
      },
      "execution_count": null,
      "outputs": []
    },
    {
      "cell_type": "code",
      "source": [
        "y_pred1 = model1.predict(X_test)\n",
        "y_pred2 = model2.predict(X_test)\n",
        "y_pred3 = model3.predict(X_test)\n",
        "\n",
        "print(y_pred1, \"\\n\",\n",
        "      y_pred2, \"\\n\",\n",
        "      y_pred3)"
      ],
      "metadata": {
        "colab": {
          "base_uri": "https://localhost:8080/"
        },
        "id": "12ckKgJzXxV0",
        "outputId": "c0509430-fb3e-4538-fa60-5f187cec5c4e"
      },
      "execution_count": 11,
      "outputs": [
        {
          "output_type": "stream",
          "name": "stdout",
          "text": [
            "[[53.57109 ]\n",
            " [57.05633 ]\n",
            " [60.541573]\n",
            " [64.02681 ]\n",
            " [67.512054]\n",
            " [70.99729 ]\n",
            " [74.48254 ]\n",
            " [77.96777 ]\n",
            " [81.45301 ]\n",
            " [84.938255]] \n",
            " [[ 76.422066]\n",
            " [ 81.40026 ]\n",
            " [ 86.378456]\n",
            " [ 91.35665 ]\n",
            " [ 96.334854]\n",
            " [101.31305 ]\n",
            " [106.29124 ]\n",
            " [111.26945 ]\n",
            " [116.247635]\n",
            " [121.22584 ]] \n",
            " [[17.023079]\n",
            " [17.858135]\n",
            " [18.693192]\n",
            " [19.52825 ]\n",
            " [20.363306]\n",
            " [21.198362]\n",
            " [22.033419]\n",
            " [22.868475]\n",
            " [23.703531]\n",
            " [24.53859 ]]\n"
          ]
        }
      ]
    },
    {
      "cell_type": "code",
      "source": [
        "from tensorflow.keras.utils import plot_model\n",
        "#plot_model(model = model1, show_shapes = \"True\"),\n",
        "#plot_model(model = model2, show_shapes = \"True\"),\n",
        "plot_model(model = model3, show_shapes = \"True\")"
      ],
      "metadata": {
        "colab": {
          "base_uri": "https://localhost:8080/",
          "height": 312
        },
        "id": "kpwCObcBZpyp",
        "outputId": "e33cfa14-152e-4abd-c646-f31f9f6b53b9"
      },
      "execution_count": 12,
      "outputs": [
        {
          "output_type": "execute_result",
          "data": {
            "image/png": "[encoded data removed]",
            "text/plain": [
              "<IPython.core.display.Image object>"
            ]
          },
          "metadata": {},
          "execution_count": 12
        }
      ]
    },
    {
      "cell_type": "code",
      "source": [
        "plot_model(model = model2, show_shapes = \"True\")"
      ],
      "metadata": {
        "colab": {
          "base_uri": "https://localhost:8080/",
          "height": 312
        },
        "id": "8CELdQ5VadR6",
        "outputId": "29970602-2bdc-44bb-9e2b-8f528a451b93"
      },
      "execution_count": 13,
      "outputs": [
        {
          "output_type": "execute_result",
          "data": {
            "image/png": "[encoded data removed]",
            "text/plain": [
              "<IPython.core.display.Image object>"
            ]
          },
          "metadata": {},
          "execution_count": 13
        }
      ]
    },
    {
      "cell_type": "code",
      "source": [
        "plot_model(model = model1 , show_shapes = \"True\")"
      ],
      "metadata": {
        "colab": {
          "base_uri": "https://localhost:8080/",
          "height": 201
        },
        "id": "-t6jPU0ObZgg",
        "outputId": "28f53124-635f-4e67-e4e9-99a7d48d6a54"
      },
      "execution_count": 14,
      "outputs": [
        {
          "output_type": "execute_result",
          "data": {
            "image/png": "[encoded data removed]",
            "text/plain": [
              "<IPython.core.display.Image object>"
            ]
          },
          "metadata": {},
          "execution_count": 14
        }
      ]
    },
    {
      "cell_type": "code",
      "source": [
        "import matplotlib.pyplot as plt"
      ],
      "metadata": {
        "id": "86V6yo444TXo"
      },
      "execution_count": 19,
      "outputs": []
    },
    {
      "cell_type": "code",
      "source": [
        "\n",
        "X_test,X_train"
      ],
      "metadata": {
        "id": "Zq9fQznD4sdV"
      },
      "execution_count": null,
      "outputs": []
    },
    {
      "cell_type": "code",
      "source": [
        "def plot_predictions(train_data = X_train,\n",
        "  train_labels = y_train,\n",
        "  test_data =X_test,\n",
        "  test_labels =y_test,\n",
        "  predictions1 = y_pred1,\n",
        "  predictions2 = y_pred2,\n",
        "  predictions3 = y_pred3):\n",
        "#plt.figure(figsize = (10,7))\n",
        "  plt.scatter(train_data, train_labels, c=\"b\", label= \"train\")\n",
        "  plt.scatter(test_data, test_labels, c=\"g\", label=\"test\" )\n",
        "  plt.scatter(test_data, predictions1, c=\"c\", label=\"P1\")\n",
        "  plt.scatter(test_data, predictions2, c=\"r\", label=\"P2\")\n",
        "  plt.scatter(test_data, predictions3, c=\"k\", label=\"P3\")\n",
        "  plt.legend();\n",
        "\n"
      ],
      "metadata": {
        "id": "GeFHv77ZbiYX"
      },
      "execution_count": 31,
      "outputs": []
    },
    {
      "cell_type": "code",
      "source": [
        "plt.figure(figsize=(10,7))\n",
        "plot_predictions()"
      ],
      "metadata": {
        "colab": {
          "base_uri": "https://localhost:8080/",
          "height": 428
        },
        "id": "GxcQBg-M4L70",
        "outputId": "5ef177c8-b781-4e92-8977-49cd6ae0718e"
      },
      "execution_count": 33,
      "outputs": [
        {
          "output_type": "display_data",
          "data": {
            "text/plain": [
              "<Figure size 720x504 with 1 Axes>"
            ],
            "image/png": "[encoded data removed]"
          },
          "metadata": {
            "needs_background": "light"
          }
        }
      ]
    },
    {
      "cell_type": "code",
      "source": [],
      "metadata": {
        "id": "dmyPKYzz76xd"
      },
      "execution_count": null,
      "outputs": []
    }
  ]
}